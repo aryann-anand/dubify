{
 "cells": [
  {
   "cell_type": "markdown",
   "metadata": {
    "id": "L4pn5TYWSp6u"
   },
   "source": [
    "#### Install Dependencies"
   ]
  },
  {
   "cell_type": "code",
   "execution_count": 4,
   "metadata": {
    "colab": {
     "base_uri": "https://localhost:8080/"
    },
    "id": "SB7JyJrJSthJ",
    "outputId": "aa600103-891f-444b-fde5-d3caf43fc14e"
   },
   "outputs": [
    {
     "name": "stdout",
     "output_type": "stream",
     "text": [
      "Chocolatey v2.2.2\n",
      "Installing the following packages:\n",
      "ffmpeg;#;for;windows\n",
      "By installing, you accept licenses for the packages.\n",
      "ffmpeg v6.0.0 already installed.\n",
      " Use --force to reinstall, specify a version to install, or try upgrade.\n",
      "Unable to connect to source 'https://community.chocolatey.org/api/v2/':\n",
      " Failed to fetch results from V2 feed at 'https://community.chocolatey.org/api/v2/Packages()?$filter=(tolower(Id)%20eq%20'#')%20and%20IsLatestVersion&semVerLevel=2.0.0' with following message : Response status code does not indicate success: 400 (Bad Request).\n",
      "# not installed. The package was not found with the source(s) listed.\n",
      " Source(s): 'https://community.chocolatey.org/api/v2/'\n",
      " NOTE: When you specify explicit sources, it overrides default sources.\n",
      "If the package version is a prerelease and you didn't specify `--pre`,\n",
      " the package may not be found.\n",
      "Please see https://docs.chocolatey.org/en-us/troubleshooting for more\n",
      " assistance.\n",
      "for not installed. The package was not found with the source(s) listed.\n",
      " Source(s): 'https://community.chocolatey.org/api/v2/'\n",
      " NOTE: When you specify explicit sources, it overrides default sources.\n",
      "If the package version is a prerelease and you didn't specify `--pre`,\n",
      " the package may not be found.\n",
      "Please see https://docs.chocolatey.org/en-us/troubleshooting for more\n",
      " assistance.\n",
      "windows not installed. The package was not found with the source(s) listed.\n",
      " Source(s): 'https://community.chocolatey.org/api/v2/'\n",
      " NOTE: When you specify explicit sources, it overrides default sources.\n",
      "If the package version is a prerelease and you didn't specify `--pre`,\n",
      " the package may not be found.\n",
      "Please see https://docs.chocolatey.org/en-us/troubleshooting for more\n",
      " assistance.\n",
      "\n",
      "Chocolatey installed 0/4 packages. 3 packages failed.\n",
      " See the log for details (C:\\ProgramData\\chocolatey\\logs\\chocolatey.log).\n",
      "\n",
      "Warnings:\n",
      " - ffmpeg - ffmpeg v6.0.0 already installed.\n",
      " Use --force to reinstall, specify a version to install, or try upgrade.\n",
      "\n",
      "Failures\n",
      " - # - # not installed. The package was not found with the source(s) listed.\n",
      " Source(s): 'https://community.chocolatey.org/api/v2/'\n",
      " NOTE: When you specify explicit sources, it overrides default sources.\n",
      "If the package version is a prerelease and you didn't specify `--pre`,\n",
      " the package may not be found.\n",
      "Please see https://docs.chocolatey.org/en-us/troubleshooting for more\n",
      " assistance.\n",
      " - for - for not installed. The package was not found with the source(s) listed.\n",
      " Source(s): 'https://community.chocolatey.org/api/v2/'\n",
      " NOTE: When you specify explicit sources, it overrides default sources.\n",
      "If the package version is a prerelease and you didn't specify `--pre`,\n",
      " the package may not be found.\n",
      "Please see https://docs.chocolatey.org/en-us/troubleshooting for more\n",
      " assistance.\n",
      " - windows - windows not installed. The package was not found with the source(s) listed.\n",
      " Source(s): 'https://community.chocolatey.org/api/v2/'\n",
      " NOTE: When you specify explicit sources, it overrides default sources.\n",
      "If the package version is a prerelease and you didn't specify `--pre`,\n",
      " the package may not be found.\n",
      "Please see https://docs.chocolatey.org/en-us/troubleshooting for more\n",
      " assistance.\n",
      "\n",
      "Enjoy using Chocolatey? Explore more amazing features to take your\n",
      "experience to the next level at\n",
      " https://chocolatey.org/compare\n",
      "Requirement already satisfied: moviepy in c:\\program files\\python311\\lib\\site-packages (1.0.3)\n",
      "Requirement already satisfied: decorator<5.0,>=4.0.2 in c:\\program files\\python311\\lib\\site-packages (from moviepy) (4.4.2)\n",
      "Requirement already satisfied: tqdm<5.0,>=4.11.2 in c:\\program files\\python311\\lib\\site-packages (from moviepy) (4.66.1)\n",
      "Requirement already satisfied: requests<3.0,>=2.8.1 in c:\\program files\\python311\\lib\\site-packages (from moviepy) (2.31.0)\n",
      "Requirement already satisfied: proglog<=1.0.0 in c:\\program files\\python311\\lib\\site-packages (from moviepy) (0.1.10)\n",
      "Requirement already satisfied: numpy>=1.17.3 in c:\\program files\\python311\\lib\\site-packages (from moviepy) (1.26.1)\n",
      "Requirement already satisfied: imageio<3.0,>=2.5 in c:\\program files\\python311\\lib\\site-packages (from moviepy) (2.31.6)\n",
      "Requirement already satisfied: imageio-ffmpeg>=0.2.0 in c:\\program files\\python311\\lib\\site-packages (from moviepy) (0.4.9)\n",
      "Requirement already satisfied: pillow<10.1.0,>=8.3.2 in c:\\program files\\python311\\lib\\site-packages (from imageio<3.0,>=2.5->moviepy) (10.0.1)\n",
      "Requirement already satisfied: setuptools in c:\\program files\\python311\\lib\\site-packages (from imageio-ffmpeg>=0.2.0->moviepy) (65.5.0)\n",
      "Requirement already satisfied: charset-normalizer<4,>=2 in c:\\program files\\python311\\lib\\site-packages (from requests<3.0,>=2.8.1->moviepy) (3.3.1)\n",
      "Requirement already satisfied: idna<4,>=2.5 in c:\\program files\\python311\\lib\\site-packages (from requests<3.0,>=2.8.1->moviepy) (2.10)\n",
      "Requirement already satisfied: urllib3<3,>=1.21.1 in c:\\program files\\python311\\lib\\site-packages (from requests<3.0,>=2.8.1->moviepy) (2.0.7)\n",
      "Requirement already satisfied: certifi>=2017.4.17 in c:\\program files\\python311\\lib\\site-packages (from requests<3.0,>=2.8.1->moviepy) (2023.7.22)\n",
      "Requirement already satisfied: colorama in c:\\program files\\python311\\lib\\site-packages (from tqdm<5.0,>=4.11.2->moviepy) (0.4.6)\n",
      "Requirement already satisfied: googletrans in c:\\program files\\python311\\lib\\site-packages (3.0.0)\n",
      "Requirement already satisfied: httpx==0.13.3 in c:\\program files\\python311\\lib\\site-packages (from googletrans) (0.13.3)\n",
      "Requirement already satisfied: certifi in c:\\program files\\python311\\lib\\site-packages (from httpx==0.13.3->googletrans) (2023.7.22)\n",
      "Requirement already satisfied: hstspreload in c:\\program files\\python311\\lib\\site-packages (from httpx==0.13.3->googletrans) (2023.1.1)\n",
      "Requirement already satisfied: sniffio in c:\\program files\\python311\\lib\\site-packages (from httpx==0.13.3->googletrans) (1.3.0)\n",
      "Requirement already satisfied: chardet==3.* in c:\\program files\\python311\\lib\\site-packages (from httpx==0.13.3->googletrans) (3.0.4)\n",
      "Requirement already satisfied: idna==2.* in c:\\program files\\python311\\lib\\site-packages (from httpx==0.13.3->googletrans) (2.10)\n",
      "Requirement already satisfied: rfc3986<2,>=1.3 in c:\\program files\\python311\\lib\\site-packages (from httpx==0.13.3->googletrans) (1.5.0)\n",
      "Requirement already satisfied: httpcore==0.9.* in c:\\program files\\python311\\lib\\site-packages (from httpx==0.13.3->googletrans) (0.9.1)\n",
      "Requirement already satisfied: h11<0.10,>=0.8 in c:\\program files\\python311\\lib\\site-packages (from httpcore==0.9.*->httpx==0.13.3->googletrans) (0.9.0)\n",
      "Requirement already satisfied: h2==3.* in c:\\program files\\python311\\lib\\site-packages (from httpcore==0.9.*->httpx==0.13.3->googletrans) (3.2.0)\n",
      "Requirement already satisfied: hyperframe<6,>=5.2.0 in c:\\program files\\python311\\lib\\site-packages (from h2==3.*->httpcore==0.9.*->httpx==0.13.3->googletrans) (5.2.0)\n",
      "Requirement already satisfied: hpack<4,>=3.0 in c:\\program files\\python311\\lib\\site-packages (from h2==3.*->httpcore==0.9.*->httpx==0.13.3->googletrans) (3.0.0)\n",
      "Requirement already satisfied: translate in c:\\program files\\python311\\lib\\site-packages (3.6.1)\n",
      "Requirement already satisfied: click in c:\\program files\\python311\\lib\\site-packages (from translate) (8.1.7)\n",
      "Requirement already satisfied: lxml in c:\\program files\\python311\\lib\\site-packages (from translate) (4.9.3)\n",
      "Requirement already satisfied: requests in c:\\program files\\python311\\lib\\site-packages (from translate) (2.31.0)\n",
      "Requirement already satisfied: libretranslatepy==2.1.1 in c:\\program files\\python311\\lib\\site-packages (from translate) (2.1.1)\n",
      "Requirement already satisfied: colorama in c:\\program files\\python311\\lib\\site-packages (from click->translate) (0.4.6)\n",
      "Requirement already satisfied: charset-normalizer<4,>=2 in c:\\program files\\python311\\lib\\site-packages (from requests->translate) (3.3.1)\n",
      "Requirement already satisfied: idna<4,>=2.5 in c:\\program files\\python311\\lib\\site-packages (from requests->translate) (2.10)\n",
      "Requirement already satisfied: urllib3<3,>=1.21.1 in c:\\program files\\python311\\lib\\site-packages (from requests->translate) (2.0.7)\n",
      "Requirement already satisfied: certifi>=2017.4.17 in c:\\program files\\python311\\lib\\site-packages (from requests->translate) (2023.7.22)\n",
      "Collecting gTTS\n",
      "  Downloading gTTS-2.4.0-py3-none-any.whl.metadata (4.1 kB)\n",
      "Requirement already satisfied: requests<3,>=2.27 in c:\\program files\\python311\\lib\\site-packages (from gTTS) (2.31.0)\n",
      "Requirement already satisfied: click<8.2,>=7.1 in c:\\program files\\python311\\lib\\site-packages (from gTTS) (8.1.7)\n",
      "Requirement already satisfied: colorama in c:\\program files\\python311\\lib\\site-packages (from click<8.2,>=7.1->gTTS) (0.4.6)\n",
      "Requirement already satisfied: charset-normalizer<4,>=2 in c:\\program files\\python311\\lib\\site-packages (from requests<3,>=2.27->gTTS) (3.3.1)\n",
      "Requirement already satisfied: idna<4,>=2.5 in c:\\program files\\python311\\lib\\site-packages (from requests<3,>=2.27->gTTS) (2.10)\n",
      "Requirement already satisfied: urllib3<3,>=1.21.1 in c:\\program files\\python311\\lib\\site-packages (from requests<3,>=2.27->gTTS) (2.0.7)\n",
      "Requirement already satisfied: certifi>=2017.4.17 in c:\\program files\\python311\\lib\\site-packages (from requests<3,>=2.27->gTTS) (2023.7.22)\n",
      "Downloading gTTS-2.4.0-py3-none-any.whl (29 kB)\n",
      "Installing collected packages: gTTS\n",
      "Successfully installed gTTS-2.4.0\n"
     ]
    }
   ],
   "source": [
    "!pip install torch==2.0.1 torchvision==0.15.2 torchaudio==2.0.2 -q\n",
    "!pip install openai -q\n",
    "!pip install -U openai-whisper -q\n",
    "!pip install git+https://github.com/openai/whisper.git -q\n",
    "!pip install --upgrade --no-deps --force-reinstall git+https://github.com/openai/whisper.git -q\n",
    "!pip install cohere tiktoken -q\n",
    "!pip install llmx==0.0.15a0 -q\n",
    "!pip install jiwer -q\n",
    "!pip install setuptools-rust -q\n",
    "# !sudo apt update && sudo apt install ffmpeg    # for linux\n",
    "!choco install ffmpeg                        # for windows\n",
    "!pip install setuptools-rust -q\n",
    "!pip install moviepy\n",
    "!pip install googletrans\n",
    "!pip install translate\n",
    "!pip install gTTS"
   ]
  },
  {
   "cell_type": "markdown",
   "metadata": {
    "id": "ScsLTXpTTGU2"
   },
   "source": [
    "#### Import Dependencies"
   ]
  },
  {
   "cell_type": "code",
   "execution_count": 5,
   "metadata": {
    "id": "1gTB08u8TnG-"
   },
   "outputs": [],
   "source": [
    "from translate import Translator as Dubify\n",
    "from moviepy.editor import VideoFileClip, AudioFileClip, clips_array\n",
    "from googletrans import Translator\n",
    "from gtts import gTTS\n",
    "import requests\n",
    "import whisper\n",
    "import os"
   ]
  },
  {
   "cell_type": "markdown",
   "metadata": {
    "id": "gWb6UMz5UPFP"
   },
   "source": [
    "#### Load the video"
   ]
  },
  {
   "cell_type": "code",
   "execution_count": 6,
   "metadata": {
    "id": "eWFWz1rXUXWs"
   },
   "outputs": [],
   "source": [
    "vid_in = \"input_video.mp4\""
   ]
  },
  {
   "cell_type": "markdown",
   "metadata": {
    "id": "UuhXptvAVMWb"
   },
   "source": [
    "#### Visual-to-Speech"
   ]
  },
  {
   "cell_type": "code",
   "execution_count": 7,
   "metadata": {
    "id": "xRd50LX4VSvn"
   },
   "outputs": [],
   "source": [
    "vid = VideoFileClip(vid_in)\n",
    "aud = vid.audio"
   ]
  },
  {
   "cell_type": "markdown",
   "metadata": {
    "id": "zOPCIA8DV01l"
   },
   "source": [
    "#### Write the Audio File"
   ]
  },
  {
   "cell_type": "code",
   "execution_count": 8,
   "metadata": {
    "colab": {
     "base_uri": "https://localhost:8080/"
    },
    "id": "Q084cbU_V3jK",
    "outputId": "fb4be152-d07a-448e-81b2-f94782c31f86"
   },
   "outputs": [
    {
     "name": "stdout",
     "output_type": "stream",
     "text": [
      "MoviePy - Writing audio in original_audio.mp3\n"
     ]
    },
    {
     "name": "stderr",
     "output_type": "stream",
     "text": [
      "                                                                                                                       "
     ]
    },
    {
     "name": "stdout",
     "output_type": "stream",
     "text": [
      "MoviePy - Done.\n"
     ]
    },
    {
     "name": "stderr",
     "output_type": "stream",
     "text": [
      "\r"
     ]
    }
   ],
   "source": [
    "# define the output audio path and filename\n",
    "aud_out = \"original_audio.mp3\"\n",
    "\n",
    "aud.write_audiofile(aud_out)"
   ]
  },
  {
   "cell_type": "markdown",
   "metadata": {
    "id": "xp5BoxfHWIYZ"
   },
   "source": [
    "#### Close the files"
   ]
  },
  {
   "cell_type": "code",
   "execution_count": 9,
   "metadata": {
    "id": "o3oCb8z1WJzW"
   },
   "outputs": [],
   "source": [
    "vid.close()\n",
    "aud.close()"
   ]
  },
  {
   "cell_type": "markdown",
   "metadata": {
    "id": "xdfDuXx7acdZ"
   },
   "source": [
    "#### Load model"
   ]
  },
  {
   "cell_type": "code",
   "execution_count": 10,
   "metadata": {
    "colab": {
     "base_uri": "https://localhost:8080/"
    },
    "id": "toTAd6RQatwZ",
    "outputId": "5316b828-ba85-40e8-cbbf-368f817fd64a"
   },
   "outputs": [
    {
     "name": "stderr",
     "output_type": "stream",
     "text": [
      "100%|█████████████████████████████████████| 1.42G/1.42G [02:27<00:00, 10.3MiB/s]\n"
     ]
    }
   ],
   "source": [
    "# model = whisper.load_model(\"base\")\n",
    "model = whisper.load_model(\"medium\")"
   ]
  },
  {
   "cell_type": "markdown",
   "metadata": {
    "id": "H3SSU_t7Wpik"
   },
   "source": [
    "#### Speech-To-Text"
   ]
  },
  {
   "cell_type": "code",
   "execution_count": 14,
   "metadata": {
    "colab": {
     "base_uri": "https://localhost:8080/"
    },
    "id": "DnXk8Ne5Wt_A",
    "outputId": "569486c6-9cd6-426c-a968-67364b063192"
   },
   "outputs": [
    {
     "name": "stdout",
     "output_type": "stream",
     "text": [
      "Detected language: en\n"
     ]
    }
   ],
   "source": [
    "# load audio and pad/trim it to fit 30 seconds\n",
    "audio = whisper.load_audio(\"original_audio.mp3\")\n",
    "audio = whisper.pad_or_trim(audio)\n",
    "\n",
    "# make log-Mel spectrogram and move to the same device as the model\n",
    "mel = whisper.log_mel_spectrogram(audio).to(model.device)\n",
    "\n",
    "# detect the spoken language\n",
    "_, probs = model.detect_language(mel)\n",
    "print(f\"Detected language: {max(probs, key=probs.get)}\")\n",
    "\n",
    "# decode the audio\n",
    "# options = whisper.DecodingOptions()                       # for GPU\n",
    "options = whisper.DecodingOptions(fp16 = False)            # for CPU\n",
    "result = whisper.decode(model, mel, options)\n",
    "\n",
    "# extracting only the text\n",
    "speech_in  = result.text"
   ]
  },
  {
   "cell_type": "markdown",
   "metadata": {
    "id": "nvv-3L6xdWOX"
   },
   "source": [
    "#### Exporting speech to file"
   ]
  },
  {
   "cell_type": "code",
   "execution_count": 15,
   "metadata": {
    "id": "NqzPG5dadcGm"
   },
   "outputs": [],
   "source": [
    "file_path = \"original_speech.txt\"\n",
    "\n",
    "# Open the file in write mode and write the text to it\n",
    "with open(file_path, 'w') as file:\n",
    "    file.write(speech_in)\n"
   ]
  },
  {
   "cell_type": "markdown",
   "metadata": {
    "id": "ZD6Qnw9CglEa"
   },
   "source": [
    "#### Text Speech Dub"
   ]
  },
  {
   "cell_type": "markdown",
   "metadata": {
    "id": "eZtIe7RPoVbX"
   },
   "source": [
    "###### Eng to Hindi"
   ]
  },
  {
   "cell_type": "code",
   "execution_count": 16,
   "metadata": {
    "id": "cZ24eFIkoXY9"
   },
   "outputs": [],
   "source": [
    "def translate_to_hindi(text):\n",
    "    translator= Dubify(to_lang=\"hi\")\n",
    "    translation = translator.translate(text)\n",
    "    return translation"
   ]
  },
  {
   "cell_type": "markdown",
   "metadata": {
    "id": "kzfaGtShoaKI"
   },
   "source": [
    "###### Eng to TN"
   ]
  },
  {
   "cell_type": "code",
   "execution_count": 17,
   "metadata": {
    "id": "Zkzq_RjXoYHT"
   },
   "outputs": [],
   "source": [
    "def translate_to_tamil(text):\n",
    "    translator = Dubify(to_lang=\"ta\")\n",
    "    translation = translator.translate(text)\n",
    "    return translation"
   ]
  },
  {
   "cell_type": "markdown",
   "metadata": {
    "id": "1e8Vors-olql"
   },
   "source": [
    "###### Load the text file"
   ]
  },
  {
   "cell_type": "code",
   "execution_count": 18,
   "metadata": {
    "id": "VBN7n-sdohLS"
   },
   "outputs": [],
   "source": [
    "with open('original_speech.txt', 'r', encoding='utf-8') as file:\n",
    "    english_content = file.read()"
   ]
  },
  {
   "cell_type": "markdown",
   "metadata": {
    "id": "qWrrK5O1ow6d"
   },
   "source": [
    "###### Translation method call (hindi)"
   ]
  },
  {
   "cell_type": "code",
   "execution_count": 19,
   "metadata": {
    "id": "AHqXcsU7osSV"
   },
   "outputs": [],
   "source": [
    "hindi_translation = translate_to_hindi(english_content)"
   ]
  },
  {
   "cell_type": "markdown",
   "metadata": {
    "id": "9npD0xrXo7Po"
   },
   "source": [
    "###### Translation mehtod call (tamil)"
   ]
  },
  {
   "cell_type": "code",
   "execution_count": 20,
   "metadata": {
    "id": "v9lHmPLro-M9"
   },
   "outputs": [],
   "source": [
    "tamil_translation = translate_to_tamil(english_content)"
   ]
  },
  {
   "cell_type": "markdown",
   "metadata": {
    "id": "sLb-M_IapDYW"
   },
   "source": [
    "###### Export the translated text"
   ]
  },
  {
   "cell_type": "code",
   "execution_count": 21,
   "metadata": {
    "id": "fv5lQsgspFZk"
   },
   "outputs": [],
   "source": [
    "with open('speech_hindi.txt', 'w', encoding='utf-8') as hindi_file:\n",
    "    hindi_file.write(hindi_translation)\n",
    "\n",
    "with open('speech_tamil.txt', 'w', encoding='utf-8') as tamil_file:\n",
    "    tamil_file.write(tamil_translation)"
   ]
  },
  {
   "cell_type": "markdown",
   "metadata": {
    "id": "rAqwGzhYuouH"
   },
   "source": [
    "#### Convert speech*.txt to audio"
   ]
  },
  {
   "cell_type": "code",
   "execution_count": 22,
   "metadata": {
    "id": "PLOhYBgcueWR"
   },
   "outputs": [],
   "source": [
    "def text_to_audio(text, output_file, lang):\n",
    "    tts = gTTS(text, lang=lang)\n",
    "    tts.save(output_file)"
   ]
  },
  {
   "cell_type": "markdown",
   "metadata": {
    "id": "W04gPucMu77B"
   },
   "source": [
    "#### Reading speechHindi.txt"
   ]
  },
  {
   "cell_type": "code",
   "execution_count": 23,
   "metadata": {
    "id": "0b7DRaC2uuvD"
   },
   "outputs": [],
   "source": [
    "with open('speech_hindi.txt', 'r', encoding='utf-8') as hindi_file:\n",
    "    hindi_text = hindi_file.read()"
   ]
  },
  {
   "cell_type": "markdown",
   "metadata": {
    "id": "9wsakizivDh0"
   },
   "source": [
    "#### Reading speechTamil.txt"
   ]
  },
  {
   "cell_type": "code",
   "execution_count": 24,
   "metadata": {
    "id": "88smkm2ZvBaU"
   },
   "outputs": [],
   "source": [
    "with open('speech_tamil.txt', 'r', encoding='utf-8') as tamil_file:\n",
    "    tamil_text = tamil_file.read()"
   ]
  },
  {
   "cell_type": "markdown",
   "metadata": {
    "id": "k1R8EK5wvIrN"
   },
   "source": [
    "#### Convert speechHindi.txt to Audio"
   ]
  },
  {
   "cell_type": "code",
   "execution_count": 25,
   "metadata": {
    "id": "SsGun5LmvGLl"
   },
   "outputs": [],
   "source": [
    "text_to_audio(hindi_text, 'audio_hindi.mp3', 'hi')"
   ]
  },
  {
   "cell_type": "markdown",
   "metadata": {
    "id": "DlEICiEpvTzr"
   },
   "source": [
    "#### Convert speechTamil.txt to Audio"
   ]
  },
  {
   "cell_type": "code",
   "execution_count": 26,
   "metadata": {
    "id": "N666iReCvOum"
   },
   "outputs": [],
   "source": [
    "text_to_audio(tamil_text, 'audio_tamil.mp3', 'ta')"
   ]
  },
  {
   "cell_type": "markdown",
   "metadata": {
    "id": "0erApvfAzOIP"
   },
   "source": [
    "#### Dubbing"
   ]
  },
  {
   "cell_type": "code",
   "execution_count": null,
   "metadata": {
    "id": "PLvrEsFJzPhp"
   },
   "outputs": [],
   "source": []
  }
 ],
 "metadata": {
  "accelerator": "GPU",
  "colab": {
   "gpuType": "T4",
   "provenance": []
  },
  "kernelspec": {
   "display_name": "Python 3 (ipykernel)",
   "language": "python",
   "name": "python3"
  },
  "language_info": {
   "codemirror_mode": {
    "name": "ipython",
    "version": 3
   },
   "file_extension": ".py",
   "mimetype": "text/x-python",
   "name": "python",
   "nbconvert_exporter": "python",
   "pygments_lexer": "ipython3",
   "version": "3.11.6"
  }
 },
 "nbformat": 4,
 "nbformat_minor": 4
}
